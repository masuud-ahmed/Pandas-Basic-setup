{
 "cells": [
  {
   "cell_type": "code",
   "execution_count": 1,
   "id": "684ffb1b-c30e-4ba2-8878-a2035dd0207c",
   "metadata": {},
   "outputs": [
    {
     "data": {
      "text/plain": [
       "2"
      ]
     },
     "execution_count": 1,
     "metadata": {},
     "output_type": "execute_result"
    }
   ],
   "source": [
    "1+1"
   ]
  },
  {
   "cell_type": "code",
   "execution_count": 2,
   "id": "6371ad88-3a16-4fd4-a23e-c2f5ba219952",
   "metadata": {},
   "outputs": [
    {
     "data": {
      "text/plain": [
       "42"
      ]
     },
     "execution_count": 2,
     "metadata": {},
     "output_type": "execute_result"
    }
   ],
   "source": [
    "1+1+90-50"
   ]
  },
  {
   "cell_type": "code",
   "execution_count": 3,
   "id": "aab4b971-ebe1-45a4-adda-cea8885b31b4",
   "metadata": {},
   "outputs": [
    {
     "data": {
      "text/plain": [
       "16"
      ]
     },
     "execution_count": 3,
     "metadata": {},
     "output_type": "execute_result"
    }
   ],
   "source": [
    "8*2"
   ]
  },
  {
   "cell_type": "code",
   "execution_count": 6,
   "id": "1921488b-ec8f-47d3-94ba-d51e95555921",
   "metadata": {},
   "outputs": [
    {
     "name": "stdout",
     "output_type": "stream",
     "text": [
      "hello, world\n"
     ]
    }
   ],
   "source": [
    "print(\"hello, world\")"
   ]
  },
  {
   "cell_type": "code",
   "execution_count": 13,
   "id": "6a19d269-9788-4b54-8d75-ab15cf70914e",
   "metadata": {},
   "outputs": [],
   "source": [
    "import pandas as pd"
   ]
  },
  {
   "cell_type": "code",
   "execution_count": 8,
   "id": "ce4a6b0c-e7af-491a-a759-a4245dc074c7",
   "metadata": {},
   "outputs": [
    {
     "name": "stdout",
     "output_type": "stream",
     "text": [
      "<module 'pandas' from 'C:\\\\Users\\\\xayeysi\\\\AppData\\\\Local\\\\anaconda3\\\\Annacondda\\\\Lib\\\\site-packages\\\\pandas\\\\__init__.py'>\n"
     ]
    }
   ],
   "source": [
    "print(pd)"
   ]
  },
  {
   "cell_type": "code",
   "execution_count": 14,
   "id": "3c8fdfbc-d8f1-4ab5-a579-b031fa463951",
   "metadata": {},
   "outputs": [],
   "source": [
    "DATA = [1,2,3]"
   ]
  },
  {
   "cell_type": "code",
   "execution_count": 17,
   "id": "3f7db99c-f7d1-421d-adb5-cb6f55f7755f",
   "metadata": {},
   "outputs": [],
   "source": [
    "numbers = [1,2,3,4,5,6]"
   ]
  },
  {
   "cell_type": "code",
   "execution_count": 18,
   "id": "1ab05ed8-233f-49ca-9ab9-2c157a6b8ea3",
   "metadata": {},
   "outputs": [
    {
     "name": "stdout",
     "output_type": "stream",
     "text": [
      "this first number 1\n"
     ]
    }
   ],
   "source": [
    "print('this first number', numbers[0])"
   ]
  },
  {
   "cell_type": "code",
   "execution_count": 19,
   "id": "66699c3e-4ac7-471e-b8a9-1c7756465631",
   "metadata": {},
   "outputs": [
    {
     "name": "stdout",
     "output_type": "stream",
     "text": [
      "this is last num 6\n"
     ]
    }
   ],
   "source": [
    "print('this is last num',numbers[5])"
   ]
  },
  {
   "cell_type": "code",
   "execution_count": 21,
   "id": "6d00fdd4-02bd-4e7c-8938-b02d1b2bc4b4",
   "metadata": {},
   "outputs": [],
   "source": [
    "numbers.append(7)"
   ]
  },
  {
   "cell_type": "markdown",
   "id": "6d193988-5b58-4fe2-9af8-d22f8f0aa573",
   "metadata": {},
   "source": [
    "numbers"
   ]
  },
  {
   "cell_type": "raw",
   "id": "0c849b9c-f1c2-49b1-b69b-c6a23f6cbde5",
   "metadata": {},
   "source": [
    "numbers"
   ]
  },
  {
   "cell_type": "code",
   "execution_count": 22,
   "id": "a2834a95-e71c-4e96-a15a-6d8734c93029",
   "metadata": {},
   "outputs": [
    {
     "name": "stdout",
     "output_type": "stream",
     "text": [
      "[1, 2, 3, 4, 5, 6, 7]\n"
     ]
    }
   ],
   "source": [
    "print(numbers)"
   ]
  },
  {
   "cell_type": "code",
   "execution_count": 23,
   "id": "eeb5a8dc-2e72-48a6-9ec2-e77010effd8a",
   "metadata": {},
   "outputs": [],
   "source": [
    "numbers.remove(4)"
   ]
  },
  {
   "cell_type": "code",
   "execution_count": 24,
   "id": "e6cbf814-5e77-4683-a4e2-7126d03a14d5",
   "metadata": {},
   "outputs": [
    {
     "name": "stdout",
     "output_type": "stream",
     "text": [
      "[1, 2, 3, 5, 6, 7]\n"
     ]
    }
   ],
   "source": [
    "print(numbers)"
   ]
  },
  {
   "cell_type": "code",
   "execution_count": 25,
   "id": "33030228-44b1-4781-ab7d-77b4e71a6061",
   "metadata": {},
   "outputs": [],
   "source": [
    "D = \"Data Science\""
   ]
  },
  {
   "cell_type": "code",
   "execution_count": 26,
   "id": "44b09a99-8519-4a84-9ad7-970960f3adfc",
   "metadata": {},
   "outputs": [
    {
     "data": {
      "text/plain": [
       "'Data Science'"
      ]
     },
     "execution_count": 26,
     "metadata": {},
     "output_type": "execute_result"
    }
   ],
   "source": [
    "D"
   ]
  },
  {
   "cell_type": "code",
   "execution_count": 28,
   "id": "d595e438-9f73-4433-aba8-316a40033cf5",
   "metadata": {},
   "outputs": [
    {
     "name": "stdout",
     "output_type": "stream",
     "text": [
      "ABDIKADIR HUSSEIN ELMI\n"
     ]
    }
   ],
   "source": [
    "print(name.upper())"
   ]
  },
  {
   "cell_type": "code",
   "execution_count": 31,
   "id": "b6b9a4a9-6edf-4a3d-96c1-40162860fa7f",
   "metadata": {},
   "outputs": [
    {
     "name": "stdout",
     "output_type": "stream",
     "text": [
      "22\n"
     ]
    }
   ],
   "source": [
    "print(len(name))"
   ]
  },
  {
   "cell_type": "code",
   "execution_count": 32,
   "id": "982c0bee-e368-4319-ba8b-8d5ab889f01d",
   "metadata": {},
   "outputs": [
    {
     "name": "stdout",
     "output_type": "stream",
     "text": [
      "Abd\n"
     ]
    }
   ],
   "source": [
    "print(name[:3])"
   ]
  },
  {
   "cell_type": "code",
   "execution_count": null,
   "id": "2475d58c-9771-4999-a9fa-f6f73ca81db9",
   "metadata": {},
   "outputs": [],
   "source": []
  }
 ],
 "metadata": {
  "kernelspec": {
   "display_name": "Python 3 (ipykernel)",
   "language": "python",
   "name": "python3"
  },
  "language_info": {
   "codemirror_mode": {
    "name": "ipython",
    "version": 3
   },
   "file_extension": ".py",
   "mimetype": "text/x-python",
   "name": "python",
   "nbconvert_exporter": "python",
   "pygments_lexer": "ipython3",
   "version": "3.12.6"
  }
 },
 "nbformat": 4,
 "nbformat_minor": 5
}
